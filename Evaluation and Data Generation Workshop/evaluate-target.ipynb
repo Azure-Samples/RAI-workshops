{
 "cells": [
  {
   "cell_type": "markdown",
   "metadata": {},
   "source": [
    "# Evaluate on a Target\n",
    "\n",
    "An Ask Wiki app has been created that uses the Wikipedia API to answer questions leveraging information available in Wikipedia articles.\n",
    "\n",
    "In this exercise, you will assess the relevance of the chatbot's responses given a query."
   ]
  },
  {
   "cell_type": "markdown",
   "metadata": {},
   "source": [
    "## Set the environment variables within the Ask Wiki app\n",
    "\n",
    "We'll first set the environment variables required for running the **Ask Wiki** app. You'll need the following:\n",
    "\n",
    "- Azure OpenAI endpoint\n",
    "- Azure OpenAI API Key\n",
    "- Azure deployment name\n",
    "- OpenAI API version\n",
    "\n",
    "You can locate your **Azure OpenAI endpoint** and **Azure OpenAI API Key** by navigating to **Deployments** and copying the respective credentials for your model deployment.\n",
    "\n",
    "The name of your Azure deployment is on the **Deployment** page. The OpenAI API version is available within the [Latest GA API Release](https://learn.microsoft.com/azure/ai-services/openai/api-version-deprecation#latest-ga-api-release).\n",
    "\n",
    "Open the `askwiki.py` file and set the following environment variables:\n",
    "\n",
    "```\n",
    "os.environ['AZURE_OPENAI_ENDPOINT'] = 'Your Azure OpenAI endpoint'\n",
    "os.environ['AZURE_OPENAI_API_KEY'] = 'Your Azure OpenAI API key'\n",
    "os.environ['AZURE_DEPLOYMENT'] = 'Your Azure OpenAI deployment name'\n",
    "os.environ['AZURE_OPENAI_API_VERSION'] = 'The OpenAI API version'\n",
    "```"
   ]
  },
  {
   "cell_type": "markdown",
   "metadata": {},
   "source": [
    "## Import and Test Ask Wiki\n",
    "\n",
    "Let's test a query with Ask Wiki to validate that your environment variables are properly configured. We'll begin by importing the `ask_wiki` function from `askwiki`. The `ask_wiki` function generates a response from the app. Once imported, we'll pass in a query to view the response and context generated."
   ]
  },
  {
   "cell_type": "code",
   "execution_count": null,
   "metadata": {},
   "outputs": [],
   "source": [
    "from askwiki import ask_wiki\n",
    "\n",
    "ask_wiki(query=\"What is the capital of India?\")"
   ]
  },
  {
   "cell_type": "markdown",
   "metadata": {},
   "source": [
    "## Install the package\n",
    "\n",
    "The `evaluate` function for evaluating on a target, and the evaluator class for assessing relevance is in the Azure AI Evaluation SDK. We'll begin by installing the package."
   ]
  },
  {
   "cell_type": "code",
   "execution_count": null,
   "metadata": {},
   "outputs": [],
   "source": [
    "%pip install azure-ai-evaluation"
   ]
  },
  {
   "cell_type": "markdown",
   "metadata": {},
   "source": [
    "## Import packages\n",
    "\n",
    "We'll now import the `evaluate` function and `RelevanceEvaluator` class. We'll also import some additional libraries to help with accessing our data and formatting the results.\n"
   ]
  },
  {
   "cell_type": "code",
   "execution_count": null,
   "metadata": {},
   "outputs": [],
   "source": [
    "from azure.ai.evaluation import evaluate, RelevanceEvaluator\n",
    "import pandas as pd\n",
    "import os\n",
    "from pprint import pprint"
   ]
  },
  {
   "cell_type": "markdown",
   "metadata": {},
   "source": [
    "## Set environment variables to create an instance of the evaluator\n",
    "\n",
    "We'll now set the environment variables that'll be required to create an instance of the relevance evaluator. You'll need the following:\n",
    "\n",
    "- Azure deployment name\n",
    "- Azure OpenAI endpoint\n",
    "- Azure OpenAI API Key\n",
    "- OpenAI API version\n",
    "\n",
    "The name of your Azure deployment is on the **Deployment** page. \n",
    "\n",
    "You can locate your **Azure OpenAI endpoint** and **Azure OpenAI API Key** by navigating to **Deployments** and copying the respective credentials for your model deployment.\n",
    "\n",
    "The OpenAI API version is available within the [Latest GA API Release](https://learn.microsoft.com/azure/ai-services/openai/api-version-deprecation#latest-ga-api-release)."
   ]
  },
  {
   "cell_type": "code",
   "execution_count": null,
   "metadata": {},
   "outputs": [],
   "source": [
    "os.environ['AZURE_OPENAI_DEPLOYMENT'] = 'Your Azure OpenAI Deployment'\n",
    "os.environ['AZURE_OPENAI_ENDPOINT'] = 'Your Azure OpenAI endpoint'\n",
    "os.environ['AZURE_OPENAI_API_KEY'] = 'Your Azure OpenAI API key'\n",
    "os.environ['AZURE_OPENAI_API_VERSION'] = 'The Azure OpenAI API version'"
   ]
  },
  {
   "cell_type": "markdown",
   "metadata": {},
   "source": [
    "## Configure the model_config\n",
    "\n",
    "The `model_config` is necessary as it's a required parameter when creating an instance of the evaluator class. Let's configure the `model_config` with the following:\n",
    "\n",
    "- Azure deployment name\n",
    "- Azure OpenAI endpoint\n",
    "- OpenAI API version\n",
    "- Azure OpenAI API Key"
   ]
  },
  {
   "cell_type": "code",
   "execution_count": null,
   "metadata": {},
   "outputs": [],
   "source": [
    "model_config = {\n",
    "    \"azure_deployment\": os.environ.get(\"AZURE_OPENAI_DEPLOYMENT\"),\n",
    "    \"azure_endpoint\": os.environ.get(\"AZURE_OPENAI_ENDPOINT\"),\n",
    "    \"api_version\": os.environ.get(\"AZURE_OPENAI_API_VERSION\"),\n",
    "    \"api_key\": os.environ.get(\"AZURE_OPENAI_API_KEY\")\n",
    "}"
   ]
  },
  {
   "cell_type": "markdown",
   "metadata": {},
   "source": [
    "## Create an instance of the evaluator\n",
    "\n",
    "Let's now create an instance of the `RelevanceEvaluator`."
   ]
  },
  {
   "cell_type": "code",
   "execution_count": null,
   "metadata": {},
   "outputs": [],
   "source": [
    "relevance_eval = RelevanceEvaluator(model_config)"
   ]
  },
  {
   "cell_type": "markdown",
   "metadata": {},
   "source": [
    "## Create the call to evaluate on a target\n",
    "\n",
    "We can run an evaluation on a target with the `evaluate` function and list our evaluator. Let's assign this function call to the `results` variable. We'll later use this variable to format and print the results."
   ]
  },
  {
   "cell_type": "code",
   "execution_count": null,
   "metadata": {},
   "outputs": [],
   "source": [
    "results = evaluate(\n",
    "    data=\"data.jsonl\",\n",
    "    target=ask_wiki,\n",
    "    evaluators={\n",
    "        \"relevance\": relevance_eval,\n",
    "    }\n",
    ")"
   ]
  },
  {
   "cell_type": "markdown",
   "metadata": {},
   "source": [
    "## Print the results with Pretty Print\n",
    "\n",
    "Now that we've run the evaluation, let's print the results using `pretty print`, which displays data in a structured and visually appealing way, making it easier to read and understand."
   ]
  },
  {
   "cell_type": "code",
   "execution_count": null,
   "metadata": {},
   "outputs": [],
   "source": [
    "pprint(results)"
   ]
  },
  {
   "cell_type": "markdown",
   "metadata": {},
   "source": [
    "## Print the results as table\n",
    "\n",
    "We can also print the results as a table using `Pandas`."
   ]
  },
  {
   "cell_type": "code",
   "execution_count": null,
   "metadata": {},
   "outputs": [],
   "source": [
    "pd.DataFrame(results[\"rows\"])"
   ]
  },
  {
   "cell_type": "markdown",
   "metadata": {},
   "source": [
    "## Delete resources\n",
    "\n",
    "If you've finished exploring Azure AI Services, delete the Azure resource that you created during the workshop.\n",
    "\n",
    "**Note**: You may be prompted to delete your deployed model(s) before deleting the resource group."
   ]
  }
 ],
 "metadata": {
  "kernelspec": {
   "display_name": ".venv",
   "language": "python",
   "name": "python3"
  },
  "language_info": {
   "codemirror_mode": {
    "name": "ipython",
    "version": 3
   },
   "file_extension": ".py",
   "mimetype": "text/x-python",
   "name": "python",
   "nbconvert_exporter": "python",
   "pygments_lexer": "ipython3",
   "version": "3.12.2"
  }
 },
 "nbformat": 4,
 "nbformat_minor": 2
}
